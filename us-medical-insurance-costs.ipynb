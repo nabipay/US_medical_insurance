{
 "cells": [
  {
   "cell_type": "markdown",
   "metadata": {},
   "source": [
    "# U.S. Medical Insurance Costs"
   ]
  },
  {
   "cell_type": "markdown",
   "metadata": {},
   "source": [
    "# Importing Data"
   ]
  },
  {
   "cell_type": "code",
   "execution_count": 135,
   "metadata": {},
   "outputs": [],
   "source": [
    "# import necessary libraries\n",
    "import pandas as pd\n",
    "import seaborn as sns\n",
    "from sklearn.linear_model import LinearRegression"
   ]
  },
  {
   "cell_type": "code",
   "execution_count": 70,
   "metadata": {},
   "outputs": [],
   "source": [
    "# import data\n",
    "dt = pd.read_csv('insurance.csv')"
   ]
  },
  {
   "cell_type": "code",
   "execution_count": 71,
   "metadata": {},
   "outputs": [
    {
     "name": "stdout",
     "output_type": "stream",
     "text": [
      "   age     sex     bmi  children smoker     region      charges\n",
      "0   19  female  27.900         0    yes  southwest  16884.92400\n",
      "1   18    male  33.770         1     no  southeast   1725.55230\n",
      "2   28    male  33.000         3     no  southeast   4449.46200\n",
      "3   33    male  22.705         0     no  northwest  21984.47061\n",
      "4   32    male  28.880         0     no  northwest   3866.85520\n"
     ]
    }
   ],
   "source": [
    "# take a first look at the data\n",
    "print(dt.head())"
   ]
  },
  {
   "cell_type": "code",
   "execution_count": 72,
   "metadata": {},
   "outputs": [
    {
     "name": "stdout",
     "output_type": "stream",
     "text": [
      "               age          bmi     children       charges\n",
      "count  1338.000000  1338.000000  1338.000000   1338.000000\n",
      "mean     39.207025    30.663397     1.094918  13270.422265\n",
      "std      14.049960     6.098187     1.205493  12110.011237\n",
      "min      18.000000    15.960000     0.000000   1121.873900\n",
      "25%      27.000000    26.296250     0.000000   4740.287150\n",
      "50%      39.000000    30.400000     1.000000   9382.033000\n",
      "75%      51.000000    34.693750     2.000000  16639.912515\n",
      "max      64.000000    53.130000     5.000000  63770.428010\n"
     ]
    }
   ],
   "source": [
    "print(dt.describe())"
   ]
  },
  {
   "cell_type": "code",
   "execution_count": 118,
   "metadata": {},
   "outputs": [
    {
     "name": "stdout",
     "output_type": "stream",
     "text": [
      "1338\n"
     ]
    }
   ],
   "source": [
    "# number of rows in database\n",
    "R = dt.shape[0]\n",
    "print(R)"
   ]
  },
  {
   "cell_type": "code",
   "execution_count": 119,
   "metadata": {},
   "outputs": [
    {
     "name": "stdout",
     "output_type": "stream",
     "text": [
      "   age     sex     bmi  children smoker     region      charges age_group  \\\n",
      "0   19  female  27.900         0    yes  southwest  16884.92400     18-29   \n",
      "1   18    male  33.770         1     no  southeast   1725.55230     18-29   \n",
      "2   28    male  33.000         3     no  southeast   4449.46200     18-29   \n",
      "3   33    male  22.705         0     no  northwest  21984.47061     30-49   \n",
      "4   32    male  28.880         0     no  northwest   3866.85520     30-49   \n",
      "\n",
      "    bmi_group  sex_code  smoker_code  \n",
      "0  overweight         1            1  \n",
      "1       obese         0            0  \n",
      "2       obese         0            0  \n",
      "3      normal         0            0  \n",
      "4  overweight         0            0  \n"
     ]
    }
   ],
   "source": [
    "# it is better for analysis to code male as 0 and female as 1. Similarly\n",
    "# lets code smoker as 1.\n",
    "dt['smoker_code'] = 0\n",
    "dt['sex_code'] = 0\n",
    "for i in range(R):\n",
    "    if dt.loc[i,'smoker'] == 'yes':\n",
    "        dt.loc[i,'smoker_code'] = 1\n",
    "    if dt.loc[i,'sex'] == 'female':\n",
    "        dt.loc[i,'sex_code'] = 1\n",
    "print(dt.head())"
   ]
  },
  {
   "cell_type": "markdown",
   "metadata": {},
   "source": [
    "# Analysis"
   ]
  },
  {
   "cell_type": "markdown",
   "metadata": {},
   "source": [
    "## We expect that facotrs like age, bmi, or smoker incraese the cost of insurance. Let us first look at the average cost of insurance for each of this factor. "
   ]
  },
  {
   "cell_type": "markdown",
   "metadata": {},
   "source": [
    "### Effect of age on cost"
   ]
  },
  {
   "cell_type": "code",
   "execution_count": 120,
   "metadata": {},
   "outputs": [
    {
     "name": "stdout",
     "output_type": "stream",
     "text": [
      "      age     sex    bmi  children smoker     region     charges age_group  \\\n",
      "1333   50    male  30.97         3     no  northwest  10600.5483     30-49   \n",
      "1334   18  female  31.92         0     no  northeast   2205.9808     18-29   \n",
      "1335   18  female  36.85         0     no  southeast   1629.8335     18-29   \n",
      "1336   21  female  25.80         0     no  southwest   2007.9450     18-29   \n",
      "1337   61  female  29.07         0    yes  northwest  29141.3603     50-70   \n",
      "\n",
      "       bmi_group  sex_code  smoker_code  \n",
      "1333       obese         0            0  \n",
      "1334       obese         1            0  \n",
      "1335       obese         1            0  \n",
      "1336  overweight         1            0  \n",
      "1337  overweight         1            1  \n"
     ]
    }
   ],
   "source": [
    "# To see the effect of age, fisrt we divide age to four categories. \n",
    "bins = [18,30,50,80]\n",
    "labels = ['18-29','30-49','50-70']\n",
    "dt['age_group'] = pd.cut(dt.age, bins, labels = labels, include_lowest=True)\n",
    "        \n",
    "print(dt.tail())        "
   ]
  },
  {
   "cell_type": "code",
   "execution_count": 131,
   "metadata": {},
   "outputs": [
    {
     "name": "stdout",
     "output_type": "stream",
     "text": [
      "  age_group       charges   age\n",
      "                     mean count\n",
      "0     18-29   9397.552051   444\n",
      "1     30-49  13280.774031   538\n",
      "2     50-70  18084.987223   356\n"
     ]
    }
   ],
   "source": [
    "# average cost group by age\n",
    "da = dt.groupby(['age_group']).agg({'charges':['mean'], 'age':'count'}).reset_index()\n",
    "print(da)"
   ]
  },
  {
   "cell_type": "markdown",
   "metadata": {},
   "source": [
    "We obsereve that the cost of insurance is higher for older participants. We also observe that most of the participants in the data belong to the age group of 30 to 49. "
   ]
  },
  {
   "cell_type": "markdown",
   "metadata": {},
   "source": [
    "## Effect of smoking on cost"
   ]
  },
  {
   "cell_type": "code",
   "execution_count": 123,
   "metadata": {},
   "outputs": [
    {
     "name": "stdout",
     "output_type": "stream",
     "text": [
      "  smoker       charges\n",
      "                  mean\n",
      "0     no   8434.268298\n",
      "1    yes  32050.231832\n"
     ]
    }
   ],
   "source": [
    "# avergate cost by smoking status\n",
    "ds = dt.groupby(['smoker']).agg({'charges':['mean']}).reset_index()\n",
    "print(ds)"
   ]
  },
  {
   "cell_type": "markdown",
   "metadata": {},
   "source": [
    "We observe that smoking increase the cost of insurance rather significantly. "
   ]
  },
  {
   "cell_type": "markdown",
   "metadata": {},
   "source": [
    "## Effect of bmi on cost"
   ]
  },
  {
   "cell_type": "code",
   "execution_count": 124,
   "metadata": {},
   "outputs": [
    {
     "name": "stdout",
     "output_type": "stream",
     "text": [
      "      age     sex    bmi  children smoker     region     charges age_group  \\\n",
      "1333   50    male  30.97         3     no  northwest  10600.5483     30-49   \n",
      "1334   18  female  31.92         0     no  northeast   2205.9808     18-29   \n",
      "1335   18  female  36.85         0     no  southeast   1629.8335     18-29   \n",
      "1336   21  female  25.80         0     no  southwest   2007.9450     18-29   \n",
      "1337   61  female  29.07         0    yes  northwest  29141.3603     50-70   \n",
      "\n",
      "       bmi_group  sex_code  smoker_code  \n",
      "1333       obese         0            0  \n",
      "1334       obese         1            0  \n",
      "1335       obese         1            0  \n",
      "1336  overweight         1            0  \n",
      "1337  overweight         1            1  \n"
     ]
    }
   ],
   "source": [
    "# To see the effect of bmi, fisrt we divide bmi to four categories. \n",
    "\n",
    "bins = [10,18.5,25,30,50]\n",
    "labels = ['underweight','normal','overweight','obese']\n",
    "dt['bmi_group'] = pd.cut(dt.bmi, bins, labels = labels, include_lowest=True)\n",
    "        \n",
    "print(dt.tail())  \n"
   ]
  },
  {
   "cell_type": "code",
   "execution_count": 125,
   "metadata": {},
   "outputs": [
    {
     "name": "stdout",
     "output_type": "stream",
     "text": [
      "     bmi_group       charges\n",
      "                        mean\n",
      "0  underweight   8657.620652\n",
      "1       normal  10435.440719\n",
      "2   overweight  10997.803881\n",
      "3        obese  15558.903334\n"
     ]
    }
   ],
   "source": [
    "# avergate cost by bmi status\n",
    "db = dt.groupby(['bmi_group']).agg({'charges':['mean']}).reset_index()\n",
    "print(db)"
   ]
  },
  {
   "cell_type": "markdown",
   "metadata": {},
   "source": [
    "We observe that bmi, like smoking and age are positively correlated to insurance cost."
   ]
  },
  {
   "cell_type": "markdown",
   "metadata": {},
   "source": [
    "## Do male pay more or less in average for health insurance?"
   ]
  },
  {
   "cell_type": "code",
   "execution_count": 133,
   "metadata": {},
   "outputs": [
    {
     "name": "stdout",
     "output_type": "stream",
     "text": [
      "      sex       charges  smoker        age        bmi\n",
      "0  female  12569.578844     662  39.503021  30.377749\n",
      "1    male  13956.751178     676  38.917160  30.943129\n"
     ]
    }
   ],
   "source": [
    "# average cost between male and female\n",
    "dg = dt.groupby(['sex']).agg({'charges':'mean', 'smoker':'count','age':'mean','bmi':'mean'}).reset_index()\n",
    "print(dg)"
   ]
  },
  {
   "cell_type": "markdown",
   "metadata": {},
   "source": [
    "We observe that men seem to pay more in average, however, data suggest that this could be because there were more men smoker in the data than there are women."
   ]
  },
  {
   "cell_type": "markdown",
   "metadata": {},
   "source": [
    "## Let us now look if insurance cost varies in different regions."
   ]
  },
  {
   "cell_type": "code",
   "execution_count": 130,
   "metadata": {},
   "outputs": [
    {
     "name": "stdout",
     "output_type": "stream",
     "text": [
      "                charges  smoker_code  sex_code        bmi  region  \\\n",
      "region                                                              \n",
      "southwest  12346.937377           58       162  30.596615     325   \n",
      "northwest  12417.575374           58       164  29.199785     325   \n",
      "northeast  13406.384516           67       161  29.173503     324   \n",
      "southeast  14735.411438           91       175  33.355989     364   \n",
      "\n",
      "           number of males  \n",
      "region                      \n",
      "southwest              163  \n",
      "northwest              161  \n",
      "northeast              163  \n",
      "southeast              189  \n"
     ]
    }
   ],
   "source": [
    "dr = dt.groupby('region').agg({'charges':'mean','smoker_code':'sum','sex_code':'sum','bmi':'mean', 'region':'count'})\n",
    "dr['number of males'] = dr['region'] - dr['sex_code']\n",
    "print(dr.sort_values(by=['charges']))"
   ]
  },
  {
   "cell_type": "markdown",
   "metadata": {},
   "source": [
    "We observe that the average cost is highest in southeast and lowest in southwest. One reason for that could be because there are more smokers in southeast than there are in southwest. Also, the average bmi is highest in southeast compare to other three regions. "
   ]
  },
  {
   "cell_type": "code",
   "execution_count": null,
   "metadata": {},
   "outputs": [],
   "source": []
  }
 ],
 "metadata": {
  "kernelspec": {
   "display_name": "Python 3",
   "language": "python",
   "name": "python3"
  },
  "language_info": {
   "codemirror_mode": {
    "name": "ipython",
    "version": 3
   },
   "file_extension": ".py",
   "mimetype": "text/x-python",
   "name": "python",
   "nbconvert_exporter": "python",
   "pygments_lexer": "ipython3",
   "version": "3.7.4"
  }
 },
 "nbformat": 4,
 "nbformat_minor": 4
}
